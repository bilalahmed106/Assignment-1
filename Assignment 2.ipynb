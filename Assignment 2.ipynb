{
 "cells": [
  {
   "cell_type": "markdown",
   "metadata": {},
   "source": [
    "## Question 1"
   ]
  },
  {
   "cell_type": "code",
   "execution_count": 1,
   "metadata": {},
   "outputs": [
    {
     "name": "stdout",
     "output_type": "stream",
     "text": [
      "Triangle 1\n",
      "Perpendicular:4 \n",
      "Base:10 \n",
      "Hypotenuse is: 5 \n",
      "Area:20.0\n",
      "\n",
      "\n",
      "Triangle 2\n",
      "Perpendicular:10 \n",
      "Base:8 \n",
      "Hypotenuse is: 3 \n",
      "Area:40.0\n"
     ]
    }
   ],
   "source": [
    "from math import*\n",
    "class pythagoras_theorem:\n",
    "    def __init__(self):\n",
    "        self.perp=1\n",
    "        self.base=1\n",
    "        self.hyp=1\n",
    "    def calculate_Area(self,perp,base,hyp):\n",
    "        area=(base*perp)/2\n",
    "        return(f\"Perpendicular:{perp} \\nBase:{base} \\nHypotenuse is: {hyp} \\nArea:{area}\")\n",
    "\n",
    "print(\"Triangle 1\")\n",
    "emp=pythagoras_theorem()\n",
    "print(emp.calculate_Area(4,10,5))\n",
    "print(\"\\n\")\n",
    "\n",
    "print(\"Triangle 2\")\n",
    "emp=pythagoras_theorem()\n",
    "print(emp.calculate_Area(10,8,3))"
   ]
  },
  {
   "cell_type": "markdown",
   "metadata": {},
   "source": [
    "## Question 2(a)"
   ]
  },
  {
   "cell_type": "code",
   "execution_count": 2,
   "metadata": {},
   "outputs": [
    {
     "name": "stdout",
     "output_type": "stream",
     "text": [
      "Distance= 100m \n",
      "Time= 4sec \n",
      "Velocity= 25.0m/s\n"
     ]
    }
   ],
   "source": [
    "#2\n",
    "import math\n",
    "class car:\n",
    "    def __init__(self,distance,time):\n",
    "        self.distance=distance\n",
    "        self.time=time\n",
    "    def calculate_velocity(self):\n",
    "        v=(self.distance/self.time)\n",
    "        return (f\"Distance= {self.distance}m \\nTime= {self.time}sec \\nVelocity= {v}m/s\")\n",
    "    \n",
    "dis=car(100,4)\n",
    "print(dis.calculate_velocity())"
   ]
  },
  {
   "cell_type": "markdown",
   "metadata": {},
   "source": [
    "## Question 2(b)"
   ]
  },
  {
   "cell_type": "code",
   "execution_count": 3,
   "metadata": {},
   "outputs": [
    {
     "name": "stdout",
     "output_type": "stream",
     "text": [
      "Distance= 5km/h \n",
      "Velocity of Water= 10km/h \n",
      "Velocity of Boat= 15km/h\n"
     ]
    }
   ],
   "source": [
    "#2\n",
    "import math\n",
    "class sailboat:\n",
    "    def __init__(self,Vr,X):\n",
    "        self.Vr=Vr\n",
    "        self.X=X\n",
    "    def calculate_velocity_of_Boat(self):\n",
    "        Vb=(self.X+self.Vr)\n",
    "        return (f\"Distance= {self.X}km/h \\nVelocity of Water= {self.Vr}km/h \\nVelocity of Boat= {Vb}km/h\")\n",
    "emp=sailboat(10, 5)\n",
    "print(emp.calculate_velocity_of_Boat())"
   ]
  },
  {
   "cell_type": "markdown",
   "metadata": {},
   "source": [
    "## Question 2(c)"
   ]
  },
  {
   "cell_type": "code",
   "execution_count": 4,
   "metadata": {},
   "outputs": [
    {
     "name": "stdout",
     "output_type": "stream",
     "text": [
      "V1= 10Km/h \n",
      "V2= 5km/h \n",
      "R=11.18km/h \n",
      "Angle=26.57 degrees\n"
     ]
    }
   ],
   "source": [
    "from math import * \n",
    "class sailboat:\n",
    "    def __init__(self):\n",
    "        pass\n",
    "    def calculate_Angle(self,V1,V2):\n",
    "        R=sqrt(V1**2+V2**2)\n",
    "        theta=atan(V2/V1)\n",
    "        Angle=(theta*180)/pi\n",
    "        return (f\"V1= {V1}Km/h \\nV2= {V2}km/h \\nR={R:.2f}km/h \\nAngle={Angle:.2f} degrees\")\n",
    "emp=sailboat()\n",
    "print(emp.calculate_Angle(10,5))   "
   ]
  },
  {
   "cell_type": "markdown",
   "metadata": {},
   "source": [
    "## Question 2(d)"
   ]
  },
  {
   "cell_type": "code",
   "execution_count": 5,
   "metadata": {},
   "outputs": [
    {
     "name": "stdout",
     "output_type": "stream",
     "text": [
      "Total Displacement= 42195m \n",
      "Total Time= 7418sec \n",
      "Average Velocity= 5.69m/s\n"
     ]
    }
   ],
   "source": [
    "#1\n",
    "import math\n",
    "class marathon:\n",
    "    def __init__(self):\n",
    "        pass\n",
    "    def calculate_average_velocity(self,Total_Dispalcement,Total_Time):\n",
    "        Vavg=(Total_Dispalcement/Total_Time)\n",
    "        return (f\"Total Displacement= {Total_Dispalcement}m \\nTotal Time= {Total_Time}sec \\nAverage Velocity= {Vavg:.2f}m/s\")\n",
    "emp=marathon()\n",
    "print(emp.calculate_average_velocity(42195, 7418))"
   ]
  }
 ],
 "metadata": {
  "kernelspec": {
   "display_name": "Python 3",
   "language": "python",
   "name": "python3"
  },
  "language_info": {
   "codemirror_mode": {
    "name": "ipython",
    "version": 3
   },
   "file_extension": ".py",
   "mimetype": "text/x-python",
   "name": "python",
   "nbconvert_exporter": "python",
   "pygments_lexer": "ipython3",
   "version": "3.7.4"
  }
 },
 "nbformat": 4,
 "nbformat_minor": 2
}
