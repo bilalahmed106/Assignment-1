{
 "cells": [
  {
   "cell_type": "markdown",
   "metadata": {},
   "source": [
    "# QUESTION # 1"
   ]
  },
  {
   "cell_type": "code",
   "execution_count": 36,
   "metadata": {},
   "outputs": [
    {
     "name": "stdout",
     "output_type": "stream",
     "text": [
      "FRIEND 1:-\n",
      "Personal Information:- \n",
      "Name: Owais, \n",
      "CNIC: 4444,\n",
      "Hobbies: Cricket\n",
      "\n",
      "\n",
      "FRIEND 2:-\n",
      "Personal Information:- \n",
      "Name: Asad, \n",
      "CNIC: 5555,\n",
      "Hobbies: Movies\n",
      "\n",
      "\n",
      "FRIEND 3:-\n",
      "Personal Information:- \n",
      "Name: Bilal, \n",
      "CNIC: 6666,\n",
      "Hobbies: Books\n"
     ]
    }
   ],
   "source": [
    "class intro:\n",
    "    def __init__(self,name,cnic):\n",
    "        self.name=name\n",
    "        self.cnic=cnic\n",
    "    def personal_information(self):\n",
    "        return (\"Personal Information:- \\nName: {}, \\nCNIC: {},\").format(self.name,self.cnic)\n",
    "    def hobbies(self,hobbies):\n",
    "        return (\"Hobbies: {}\").format(hobbies)\n",
    "    \n",
    "Frnd_1=intro('Owais',4444)\n",
    "print(\"FRIEND 1:-\")\n",
    "print(Frnd_1.personal_information())\n",
    "print(Frnd_1.hobbies('Cricket'))\n",
    "print(\"\\n\")\n",
    "\n",
    "Frnd_2=intro('Asad',5555)\n",
    "print(\"FRIEND 2:-\")\n",
    "print(Frnd_2.personal_information())\n",
    "print(Frnd_2.hobbies('Movies'))\n",
    "print(\"\\n\")\n",
    "\n",
    "Frnd_3=intro('Bilal',6666)\n",
    "print(\"FRIEND 3:-\")\n",
    "print(Frnd_3.personal_information())\n",
    "print(Frnd_3.hobbies('Books'))"
   ]
  },
  {
   "cell_type": "markdown",
   "metadata": {},
   "source": [
    "# QUESTION # 2"
   ]
  },
  {
   "cell_type": "code",
   "execution_count": 39,
   "metadata": {},
   "outputs": [
    {
     "name": "stdout",
     "output_type": "stream",
     "text": [
      "FRIEND 1:-\n",
      "Best Soup of All Time:- Sausage, Potato and Spinach Soup, Cauliflower Chowder. \n",
      "There are different types of Salads:- Tossed Salads, Composed Salads. \n",
      "Course Meals:- Amuse-bouche, Appetizer. \n",
      "Most Popular Tasty Desserts Of All Time:- Puff Pastry Four Ways, Açaí Meringue Cookies. \n",
      "The Healthiest Types of Juice:- Beet, Apple. \n",
      "\n",
      "\n",
      "FRIEND 2:-\n",
      "Best Soup of All Time:- Chicken Soup, Corn Soup. \n",
      "There are different types of Salads:- Bound Salads, Farinaceous Salads. \n",
      "Course Meals:- Hors d'oeuvres, Soup. \n",
      "Most Popular Tasty Desserts Of All Time:- Cookies and Cream Cupcakes, Chocolate Chip Muffins. \n",
      "The Healthiest Types of Juice:- Prune, Pomegranate. \n",
      "\n",
      "\n",
      "FRIEND 3:-\n",
      "Best Soup of All Time:- Chicken Noodle Soup, Tortilla Soup. \n",
      "There are different types of Salads:- Fruit salads, Dessert salads. \n",
      "Course Meals:- Salad, Fish. \n",
      "Most Popular Tasty Desserts Of All Time:- Cosmic Brownies, Loaded Chocolate Cookie Pizza. \n",
      "The Healthiest Types of Juice:- Acai berry, Orange. \n"
     ]
    }
   ],
   "source": [
    "class dishes:\n",
    "    def _init_(self):\n",
    "        pass\n",
    "    def soup(self,best):\n",
    "        return (f'Best Soup of All Time:- {best}. ')\n",
    "    def salad(self,types):\n",
    "        return (f'There are different types of Salads:- {types}. ')\n",
    "    def course(self,meals):\n",
    "        return (f'Course Meals:- {meals}. ')\n",
    "    def desert(self,popularity):        \n",
    "        return (f'Most Popular Tasty Desserts Of All Time:- {popularity}. ')\n",
    "    def juice(self,healthiest_types):\n",
    "        return (f'The Healthiest Types of Juice:- {healthiest_types}. ')\n",
    "\n",
    "Frnd_1=dishes()\n",
    "print(\"FRIEND 1:-\")\n",
    "print(Frnd_1.soup(\"Sausage, Potato and Spinach Soup, Cauliflower Chowder\"))\n",
    "print(Frnd_1.salad(\"Tossed Salads, Composed Salads\"))\n",
    "print(Frnd_1.course(\"Amuse-bouche, Appetizer\"))\n",
    "print(Frnd_1.desert(\"Puff Pastry Four Ways, Açaí Meringue Cookies\"))\n",
    "print(Frnd_1.juice(\"Beet, Apple\"))\n",
    "print(\"\\n\")\n",
    "\n",
    "Frnd_2=dishes()\n",
    "print(\"FRIEND 2:-\")\n",
    "print(Frnd_2.soup(\"Chicken Soup, Corn Soup\"))\n",
    "print(Frnd_2.salad(\"Bound Salads, Farinaceous Salads\"))\n",
    "print(Frnd_2.course(\"Hors d'oeuvres, Soup\"))\n",
    "print(Frnd_2.desert(\"Cookies and Cream Cupcakes, Chocolate Chip Muffins\"))\n",
    "print(Frnd_2.juice(\"Prune, Pomegranate\"))\n",
    "print(\"\\n\")\n",
    "\n",
    "Frnd_3=dishes()\n",
    "print(\"FRIEND 3:-\")\n",
    "print(Frnd_3.soup(\"Chicken Noodle Soup, Tortilla Soup\"))\n",
    "print(Frnd_3.salad(\"Fruit salads, Dessert salads\"))\n",
    "print(Frnd_3.course(\"Salad, Fish\"))\n",
    "print(Frnd_3.desert(\"Cosmic Brownies, Loaded Chocolate Cookie Pizza\"))\n",
    "print(Frnd_3.juice(\"Acai berry, Orange\"))"
   ]
  }
 ],
 "metadata": {
  "kernelspec": {
   "display_name": "Python 3",
   "language": "python",
   "name": "python3"
  },
  "language_info": {
   "codemirror_mode": {
    "name": "ipython",
    "version": 3
   },
   "file_extension": ".py",
   "mimetype": "text/x-python",
   "name": "python",
   "nbconvert_exporter": "python",
   "pygments_lexer": "ipython3",
   "version": "3.7.4"
  }
 },
 "nbformat": 4,
 "nbformat_minor": 2
}
